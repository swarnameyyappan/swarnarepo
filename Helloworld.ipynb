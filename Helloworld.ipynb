{
 "cells": [
  {
   "cell_type": "code",
   "execution_count": 3,
   "id": "b51334e8-4e3d-41b7-a51b-8a85d88c96b7",
   "metadata": {
    "id": "7d4f3f44-bbd6-4990-a0cc-005ed96c0c00",
    "tags": []
   },
   "outputs": [
    {
     "name": "stdout",
     "output_type": "stream",
     "text": [
      "Hello World\n"
     ]
    }
   ],
   "source": [
    "print ('Hello World')"
   ]
  },
  {
   "cell_type": "code",
   "execution_count": null,
   "id": "0e903b49-8728-401a-b8ee-f5625af1dc7a",
   "metadata": {
    "id": "0e903b49-8728-401a-b8ee-f5625af1dc7a"
   },
   "outputs": [],
   "source": []
  },
  {
   "cell_type": "code",
   "execution_count": null,
   "id": "d4fd9639-6e99-4451-a2c6-23638b09fe10",
   "metadata": {
    "id": "d4fd9639-6e99-4451-a2c6-23638b09fe10"
   },
   "outputs": [],
   "source": []
  }
 ],
 "metadata": {
  "kernelspec": {
   "display_name": "Python 3.9",
   "language": "python",
   "name": "python3"
  },
  "language_info": {
   "codemirror_mode": {
    "name": "ipython",
    "version": 3
   },
   "file_extension": ".py",
   "mimetype": "text/x-python",
   "name": "python",
   "nbconvert_exporter": "python",
   "pygments_lexer": "ipython3",
   "version": "3.9.12"
  }
 },
 "nbformat": 4,
 "nbformat_minor": 5
}
